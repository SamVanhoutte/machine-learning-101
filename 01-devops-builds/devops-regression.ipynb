{
 "cells": [
  {
   "cell_type": "code",
   "execution_count": 69,
   "metadata": {
    "ExecuteTime": {
     "end_time": "2020-04-28T08:36:17.227489Z",
     "start_time": "2020-04-28T08:36:17.223461Z"
    }
   },
   "outputs": [],
   "source": [
    "import pandas as pd\n",
    "from collections import Counter\n",
    "from sklearn.model_selection import train_test_split\n",
    "import seaborn as sns\n",
    "import numpy as np\n",
    "import matplotlib.pyplot as plt\n",
    "import pickle\n",
    "from sklearn.tree import DecisionTreeClassifier\n",
    "from sklearn.ensemble import RandomForestClassifier\n",
    "from sklearn.metrics import classification_report, roc_curve, auc"
   ]
  },
  {
   "cell_type": "markdown",
   "metadata": {},
   "source": [
    "# Data load & preparation\n",
    "\n",
    "In the following cells, these actions happen:\n",
    "\n",
    "- We're loading the data from the CSV file into a pandas `DataFrame`.  This is a data set structure that is extremely popular and quite often used in Python machine learning."
   ]
  },
  {
   "cell_type": "markdown",
   "metadata": {},
   "source": [
    "## Data import"
   ]
  },
  {
   "cell_type": "code",
   "execution_count": 2,
   "metadata": {
    "ExecuteTime": {
     "end_time": "2020-04-28T07:44:36.592676Z",
     "start_time": "2020-04-28T07:44:36.111049Z"
    }
   },
   "outputs": [],
   "source": [
    "original_dataset = pd.read_csv('data/smart-devops.csv')"
   ]
  },
  {
   "cell_type": "code",
   "execution_count": 3,
   "metadata": {
    "ExecuteTime": {
     "end_time": "2020-04-28T07:44:36.612291Z",
     "start_time": "2020-04-28T07:44:36.594578Z"
    }
   },
   "outputs": [
    {
     "data": {
      "text/html": [
       "<div>\n",
       "<style scoped>\n",
       "    .dataframe tbody tr th:only-of-type {\n",
       "        vertical-align: middle;\n",
       "    }\n",
       "\n",
       "    .dataframe tbody tr th {\n",
       "        vertical-align: top;\n",
       "    }\n",
       "\n",
       "    .dataframe thead th {\n",
       "        text-align: right;\n",
       "    }\n",
       "</style>\n",
       "<table border=\"1\" class=\"dataframe\">\n",
       "  <thead>\n",
       "    <tr style=\"text-align: right;\">\n",
       "      <th></th>\n",
       "      <th>DefinitionId</th>\n",
       "      <th>DefinitionName</th>\n",
       "      <th>DefinitionQueueStatus</th>\n",
       "      <th>DefinitionType</th>\n",
       "      <th>BuildId</th>\n",
       "      <th>BuildFinishTime</th>\n",
       "      <th>BuildQueueTime</th>\n",
       "      <th>BuildStartTime</th>\n",
       "      <th>BuildResult</th>\n",
       "      <th>BuildStatus</th>\n",
       "      <th>BuildRepositoryType</th>\n",
       "      <th>ChangeSetId</th>\n",
       "      <th>ChangeSetCheckedInBy</th>\n",
       "      <th>ChangeSetCreatedDate</th>\n",
       "      <th>ChangeSetChangeFile</th>\n",
       "      <th>ChangeSetChangeChangeType</th>\n",
       "    </tr>\n",
       "  </thead>\n",
       "  <tbody>\n",
       "    <tr>\n",
       "      <th>0</th>\n",
       "      <td>177</td>\n",
       "      <td>Sgbdnl.Portal</td>\n",
       "      <td>enabled</td>\n",
       "      <td>build</td>\n",
       "      <td>31966</td>\n",
       "      <td>12/20/2019 09:51:47</td>\n",
       "      <td>12/20/2019 09:30:43</td>\n",
       "      <td>12/20/2019 09:46:48</td>\n",
       "      <td>succeeded</td>\n",
       "      <td>completed</td>\n",
       "      <td>TfsGit</td>\n",
       "      <td>1e3f0533f4a473cae0a8f86ff6a749532e091021</td>\n",
       "      <td>Rgvgt Igttkvugp</td>\n",
       "      <td>12/20/2019 09:30:42</td>\n",
       "      <td>GalvanoSendOrderB2BRequestHandlerTests.cs</td>\n",
       "      <td>edit</td>\n",
       "    </tr>\n",
       "    <tr>\n",
       "      <th>1</th>\n",
       "      <td>177</td>\n",
       "      <td>Sgbdnl.Portal</td>\n",
       "      <td>enabled</td>\n",
       "      <td>build</td>\n",
       "      <td>30448</td>\n",
       "      <td>11/06/2019 11:51:52</td>\n",
       "      <td>11/06/2019 11:39:45</td>\n",
       "      <td>11/06/2019 11:39:55</td>\n",
       "      <td>succeeded</td>\n",
       "      <td>completed</td>\n",
       "      <td>TfsGit</td>\n",
       "      <td>c1218a2988f8d4086a923398da4f0548b61ea5ea</td>\n",
       "      <td>Rgvgt Igttkvugp</td>\n",
       "      <td>11/06/2019 11:39:44</td>\n",
       "      <td>InvoiceRepositoryTests.cs</td>\n",
       "      <td>edit</td>\n",
       "    </tr>\n",
       "    <tr>\n",
       "      <th>2</th>\n",
       "      <td>177</td>\n",
       "      <td>Sgbdnl.Portal</td>\n",
       "      <td>enabled</td>\n",
       "      <td>build</td>\n",
       "      <td>35542</td>\n",
       "      <td>03/24/2020 12:43:40</td>\n",
       "      <td>03/24/2020 12:25:34</td>\n",
       "      <td>03/24/2020 12:43:40</td>\n",
       "      <td>canceled</td>\n",
       "      <td>completed</td>\n",
       "      <td>TfsGit</td>\n",
       "      <td>60d289d4e5bd148fd0490b97f666102d5d437142</td>\n",
       "      <td>Ulqtu xcp Quej</td>\n",
       "      <td>03/24/2020 12:25:33</td>\n",
       "      <td>Sgbdnl.Ebusiness.SalesOrder.Api.csproj</td>\n",
       "      <td>edit</td>\n",
       "    </tr>\n",
       "    <tr>\n",
       "      <th>3</th>\n",
       "      <td>177</td>\n",
       "      <td>Sgbdnl.Portal</td>\n",
       "      <td>enabled</td>\n",
       "      <td>build</td>\n",
       "      <td>33474</td>\n",
       "      <td>02/05/2020 11:15:31</td>\n",
       "      <td>02/05/2020 11:13:15</td>\n",
       "      <td>02/05/2020 11:13:18</td>\n",
       "      <td>succeeded</td>\n",
       "      <td>completed</td>\n",
       "      <td>TfsGit</td>\n",
       "      <td>1ca8690ebc1ec53458e5e94aa0783cb2e76c07c5</td>\n",
       "      <td>Lqjcp Qquvgtjqnv</td>\n",
       "      <td>02/05/2020 11:12:23</td>\n",
       "      <td>BannerProfile.cs</td>\n",
       "      <td>edit</td>\n",
       "    </tr>\n",
       "  </tbody>\n",
       "</table>\n",
       "</div>"
      ],
      "text/plain": [
       "   DefinitionId DefinitionName DefinitionQueueStatus DefinitionType  BuildId  \\\n",
       "0           177  Sgbdnl.Portal               enabled          build    31966   \n",
       "1           177  Sgbdnl.Portal               enabled          build    30448   \n",
       "2           177  Sgbdnl.Portal               enabled          build    35542   \n",
       "3           177  Sgbdnl.Portal               enabled          build    33474   \n",
       "\n",
       "       BuildFinishTime       BuildQueueTime       BuildStartTime BuildResult  \\\n",
       "0  12/20/2019 09:51:47  12/20/2019 09:30:43  12/20/2019 09:46:48   succeeded   \n",
       "1  11/06/2019 11:51:52  11/06/2019 11:39:45  11/06/2019 11:39:55   succeeded   \n",
       "2  03/24/2020 12:43:40  03/24/2020 12:25:34  03/24/2020 12:43:40    canceled   \n",
       "3  02/05/2020 11:15:31  02/05/2020 11:13:15  02/05/2020 11:13:18   succeeded   \n",
       "\n",
       "  BuildStatus BuildRepositoryType                               ChangeSetId  \\\n",
       "0   completed              TfsGit  1e3f0533f4a473cae0a8f86ff6a749532e091021   \n",
       "1   completed              TfsGit  c1218a2988f8d4086a923398da4f0548b61ea5ea   \n",
       "2   completed              TfsGit  60d289d4e5bd148fd0490b97f666102d5d437142   \n",
       "3   completed              TfsGit  1ca8690ebc1ec53458e5e94aa0783cb2e76c07c5   \n",
       "\n",
       "  ChangeSetCheckedInBy ChangeSetCreatedDate  \\\n",
       "0      Rgvgt Igttkvugp  12/20/2019 09:30:42   \n",
       "1      Rgvgt Igttkvugp  11/06/2019 11:39:44   \n",
       "2       Ulqtu xcp Quej  03/24/2020 12:25:33   \n",
       "3     Lqjcp Qquvgtjqnv  02/05/2020 11:12:23   \n",
       "\n",
       "                         ChangeSetChangeFile ChangeSetChangeChangeType  \n",
       "0  GalvanoSendOrderB2BRequestHandlerTests.cs                      edit  \n",
       "1                  InvoiceRepositoryTests.cs                      edit  \n",
       "2     Sgbdnl.Ebusiness.SalesOrder.Api.csproj                      edit  \n",
       "3                           BannerProfile.cs                      edit  "
      ]
     },
     "execution_count": 3,
     "metadata": {},
     "output_type": "execute_result"
    }
   ],
   "source": [
    "original_dataset.head(4)"
   ]
  },
  {
   "cell_type": "code",
   "execution_count": 4,
   "metadata": {
    "ExecuteTime": {
     "end_time": "2020-04-28T07:44:36.760823Z",
     "start_time": "2020-04-28T07:44:36.614028Z"
    }
   },
   "outputs": [
    {
     "name": "stdout",
     "output_type": "stream",
     "text": [
      "<class 'pandas.core.frame.DataFrame'>\n",
      "RangeIndex: 212061 entries, 0 to 212060\n",
      "Data columns (total 16 columns):\n",
      "DefinitionId                 212061 non-null int64\n",
      "DefinitionName               212061 non-null object\n",
      "DefinitionQueueStatus        212061 non-null object\n",
      "DefinitionType               212061 non-null object\n",
      "BuildId                      212061 non-null int64\n",
      "BuildFinishTime              212061 non-null object\n",
      "BuildQueueTime               212061 non-null object\n",
      "BuildStartTime               212061 non-null object\n",
      "BuildResult                  212061 non-null object\n",
      "BuildStatus                  212061 non-null object\n",
      "BuildRepositoryType          212061 non-null object\n",
      "ChangeSetId                  212061 non-null object\n",
      "ChangeSetCheckedInBy         212061 non-null object\n",
      "ChangeSetCreatedDate         212061 non-null object\n",
      "ChangeSetChangeFile          212061 non-null object\n",
      "ChangeSetChangeChangeType    212061 non-null object\n",
      "dtypes: int64(2), object(14)\n",
      "memory usage: 25.9+ MB\n"
     ]
    }
   ],
   "source": [
    "original_dataset.info()"
   ]
  },
  {
   "cell_type": "code",
   "execution_count": 5,
   "metadata": {
    "ExecuteTime": {
     "end_time": "2020-04-28T07:45:42.873674Z",
     "start_time": "2020-04-28T07:44:36.762518Z"
    }
   },
   "outputs": [],
   "source": [
    "original_dataset['BuildFinishTime'] = pd.to_datetime(original_dataset['BuildFinishTime']) \n",
    "original_dataset['BuildQueueTime'] = pd.to_datetime(original_dataset['BuildQueueTime']) \n",
    "original_dataset['BuildStartTime'] = pd.to_datetime(original_dataset['BuildStartTime']) \n"
   ]
  },
  {
   "cell_type": "markdown",
   "metadata": {},
   "source": [
    "## Data preparation\n",
    "\n",
    "In the following section, we discuss every feature of the data set and will define what to do with it:"
   ]
  },
  {
   "cell_type": "markdown",
   "metadata": {},
   "source": [
    "### Definition features\n",
    "\n",
    "As you can see, the dataset is only providing data for 1 definition, so these features will not be considered in the training model and we can therefore remove it.\n",
    "\n",
    "__Suggestion__: check if we can rebuild the model, taking into account more definitions."
   ]
  },
  {
   "cell_type": "code",
   "execution_count": 6,
   "metadata": {
    "ExecuteTime": {
     "end_time": "2020-04-28T07:45:42.962098Z",
     "start_time": "2020-04-28T07:45:42.875538Z"
    }
   },
   "outputs": [
    {
     "name": "stdout",
     "output_type": "stream",
     "text": [
      "Counter({177: 212061})\n",
      "Counter({'Sgbdnl.Portal': 212061})\n",
      "Counter({'enabled': 212061})\n",
      "Counter({'build': 212061})\n"
     ]
    }
   ],
   "source": [
    "# This statement just counts the occurrances of different values in a column\n",
    "dataset = original_dataset.copy()\n",
    "print(Counter(dataset.DefinitionId))\n",
    "print(Counter(dataset.DefinitionName))\n",
    "print(Counter(dataset.DefinitionQueueStatus))\n",
    "print(Counter(dataset.DefinitionType))"
   ]
  },
  {
   "cell_type": "code",
   "execution_count": 7,
   "metadata": {
    "ExecuteTime": {
     "end_time": "2020-04-28T07:45:42.991955Z",
     "start_time": "2020-04-28T07:45:42.965977Z"
    }
   },
   "outputs": [],
   "source": [
    "# Here we are dropping the column as it's not relevant\n",
    "# - inplace updates the dataframe\n",
    "#     alternative would be: dataset = dataset.drop('Column', axis=1)\n",
    "# -  axis=1 means column (axis=0 means row)\n",
    "dataset.drop(\n",
    "    ['DefinitionId', 'DefinitionName', 'DefinitionQueueStatus', 'DefinitionType'], \n",
    "    axis=1, inplace=True) "
   ]
  },
  {
   "cell_type": "markdown",
   "metadata": {},
   "source": [
    "### Adding changeset specific values\n",
    "\n",
    "#### Categorizing user values"
   ]
  },
  {
   "cell_type": "code",
   "execution_count": 8,
   "metadata": {
    "ExecuteTime": {
     "end_time": "2020-04-28T07:45:43.039164Z",
     "start_time": "2020-04-28T07:45:42.995781Z"
    }
   },
   "outputs": [],
   "source": [
    "dataset.ChangeSetCheckedInBy = pd.Categorical(dataset.ChangeSetCheckedInBy)\n",
    "dataset['user'] = dataset.ChangeSetCheckedInBy.cat.codes\n",
    "\n",
    "dataset.drop('ChangeSetCheckedInBy', axis=1, inplace=True) "
   ]
  },
  {
   "cell_type": "markdown",
   "metadata": {},
   "source": [
    "#### File operations tagging"
   ]
  },
  {
   "cell_type": "code",
   "execution_count": 9,
   "metadata": {
    "ExecuteTime": {
     "end_time": "2020-04-28T07:45:43.763771Z",
     "start_time": "2020-04-28T07:45:43.041012Z"
    }
   },
   "outputs": [],
   "source": [
    "dataset['changeset_isedit'] = dataset['ChangeSetChangeChangeType'].apply(\n",
    "    lambda ct: 1 if (ct.lower().find(\"edit\") > -1) else 0)\n",
    "dataset['changeset_isadd'] = dataset['ChangeSetChangeChangeType'].apply(\n",
    "    lambda ct: 1 if (ct.lower().find(\"add\") > -1) else 0)\n",
    "dataset['changeset_isdelete'] = dataset['ChangeSetChangeChangeType'].apply(\n",
    "    lambda ct: 1 if (ct.lower().find(\"delete\") > -1) else 0)\n",
    "dataset['changeset_isrename'] = dataset['ChangeSetChangeChangeType'].apply(\n",
    "    lambda ct: 1 if (ct.lower().find(\"rename\") > -1) else 0)\n",
    "dataset['changeset_involves_test'] = dataset['ChangeSetChangeFile'].apply(\n",
    "    lambda ct: 1 if (ct.lower().find(\"test\") > -1) else 0)"
   ]
  },
  {
   "cell_type": "code",
   "execution_count": 10,
   "metadata": {
    "ExecuteTime": {
     "end_time": "2020-04-28T07:45:43.825663Z",
     "start_time": "2020-04-28T07:45:43.765616Z"
    }
   },
   "outputs": [],
   "source": [
    "def OneHotEncode(df, columnName, drop:bool = False):\n",
    "    df = pd.concat([df, pd.get_dummies(df[columnName], prefix=columnName)],axis=1, sort=True)\n",
    "    if(drop): df.drop([columnName], axis=1, inplace=True)\n",
    "    return df\n",
    "\n",
    "dataset = OneHotEncode(dataset, 'user')"
   ]
  },
  {
   "cell_type": "markdown",
   "metadata": {},
   "source": [
    "### Build features\n",
    "\n",
    "First we verify the BuildResult and BuildStatus fields.  These will be important for our output, as that is what we want to predict, after all.\n",
    "\n",
    "- The `BuildStatus` feature always has completed as value, so we'll remove it.\n",
    "- The `BuildResult` feature is the one we need to predict and we will make this a binary classifier, so change all values to 1 for the succeeeded results and 0 for any other result.\n",
    "- The `BuildRepositoryType` feature indicates if a build was using a Tfs vs Git repo.  This could be interesting information, so we will also encode this feature to a binary type (1 for git, 0 for others)"
   ]
  },
  {
   "cell_type": "code",
   "execution_count": 11,
   "metadata": {
    "ExecuteTime": {
     "end_time": "2020-04-28T07:45:43.882469Z",
     "start_time": "2020-04-28T07:45:43.827446Z"
    }
   },
   "outputs": [
    {
     "name": "stdout",
     "output_type": "stream",
     "text": [
      "Counter({'succeeded': 158716, 'failed': 33484, 'partiallySucceeded': 10540, 'canceled': 9321})\n",
      "Counter({'completed': 212061})\n",
      "Counter({'TfsGit': 209281, 'TfsVersionControl': 2780})\n"
     ]
    }
   ],
   "source": [
    "#print(Counter(dataset.BuildId))\n",
    "print(Counter(dataset.BuildResult))\n",
    "print(Counter(dataset.BuildStatus))\n",
    "print(Counter(dataset.BuildRepositoryType))"
   ]
  },
  {
   "cell_type": "markdown",
   "metadata": {},
   "source": [
    "#### Drop BuildStatus"
   ]
  },
  {
   "cell_type": "code",
   "execution_count": 12,
   "metadata": {
    "ExecuteTime": {
     "end_time": "2020-04-28T07:45:43.920777Z",
     "start_time": "2020-04-28T07:45:43.884841Z"
    }
   },
   "outputs": [],
   "source": [
    "# Dropping the BuildStatus feature\n",
    "dataset.drop('BuildStatus', axis=1, inplace=True) "
   ]
  },
  {
   "cell_type": "markdown",
   "metadata": {},
   "source": [
    "#### Encoding (binary classification) of the output feature (BuildResult)"
   ]
  },
  {
   "cell_type": "code",
   "execution_count": 13,
   "metadata": {
    "ExecuteTime": {
     "end_time": "2020-04-28T07:45:44.010817Z",
     "start_time": "2020-04-28T07:45:43.922855Z"
    }
   },
   "outputs": [],
   "source": [
    "# Applying the encoding of the output feature\n",
    "dataset['BuildResult'] = dataset['BuildResult'].apply(lambda result: 1 if result == 'succeeded' else 0)"
   ]
  },
  {
   "cell_type": "markdown",
   "metadata": {},
   "source": [
    "#### Encoding of the repository type"
   ]
  },
  {
   "cell_type": "code",
   "execution_count": 14,
   "metadata": {
    "ExecuteTime": {
     "end_time": "2020-04-28T07:45:44.182982Z",
     "start_time": "2020-04-28T07:45:44.012622Z"
    }
   },
   "outputs": [],
   "source": [
    "# Applying the encoding of the repository feature\n",
    "dataset['BuildGitRepo'] = dataset['BuildRepositoryType'].apply(lambda repotype: 1 if (repotype.lower().find(\"git\") > -1) else 0)\n",
    "dataset.drop('BuildRepositoryType', axis=1, inplace=True) \n"
   ]
  },
  {
   "cell_type": "code",
   "execution_count": 15,
   "metadata": {
    "ExecuteTime": {
     "end_time": "2020-04-28T07:45:44.205127Z",
     "start_time": "2020-04-28T07:45:44.184860Z"
    }
   },
   "outputs": [
    {
     "data": {
      "text/html": [
       "<div>\n",
       "<style scoped>\n",
       "    .dataframe tbody tr th:only-of-type {\n",
       "        vertical-align: middle;\n",
       "    }\n",
       "\n",
       "    .dataframe tbody tr th {\n",
       "        vertical-align: top;\n",
       "    }\n",
       "\n",
       "    .dataframe thead th {\n",
       "        text-align: right;\n",
       "    }\n",
       "</style>\n",
       "<table border=\"1\" class=\"dataframe\">\n",
       "  <thead>\n",
       "    <tr style=\"text-align: right;\">\n",
       "      <th></th>\n",
       "      <th>BuildId</th>\n",
       "      <th>BuildFinishTime</th>\n",
       "      <th>BuildQueueTime</th>\n",
       "      <th>BuildStartTime</th>\n",
       "      <th>BuildResult</th>\n",
       "      <th>ChangeSetId</th>\n",
       "      <th>ChangeSetCreatedDate</th>\n",
       "      <th>ChangeSetChangeFile</th>\n",
       "      <th>ChangeSetChangeChangeType</th>\n",
       "      <th>user</th>\n",
       "      <th>...</th>\n",
       "      <th>user_33</th>\n",
       "      <th>user_34</th>\n",
       "      <th>user_35</th>\n",
       "      <th>user_36</th>\n",
       "      <th>user_37</th>\n",
       "      <th>user_38</th>\n",
       "      <th>user_39</th>\n",
       "      <th>user_40</th>\n",
       "      <th>user_41</th>\n",
       "      <th>BuildGitRepo</th>\n",
       "    </tr>\n",
       "  </thead>\n",
       "  <tbody>\n",
       "    <tr>\n",
       "      <th>0</th>\n",
       "      <td>31966</td>\n",
       "      <td>2019-12-20 09:51:47</td>\n",
       "      <td>2019-12-20 09:30:43</td>\n",
       "      <td>2019-12-20 09:46:48</td>\n",
       "      <td>1</td>\n",
       "      <td>1e3f0533f4a473cae0a8f86ff6a749532e091021</td>\n",
       "      <td>12/20/2019 09:30:42</td>\n",
       "      <td>GalvanoSendOrderB2BRequestHandlerTests.cs</td>\n",
       "      <td>edit</td>\n",
       "      <td>28</td>\n",
       "      <td>...</td>\n",
       "      <td>0</td>\n",
       "      <td>0</td>\n",
       "      <td>0</td>\n",
       "      <td>0</td>\n",
       "      <td>0</td>\n",
       "      <td>0</td>\n",
       "      <td>0</td>\n",
       "      <td>0</td>\n",
       "      <td>0</td>\n",
       "      <td>1</td>\n",
       "    </tr>\n",
       "    <tr>\n",
       "      <th>1</th>\n",
       "      <td>30448</td>\n",
       "      <td>2019-11-06 11:51:52</td>\n",
       "      <td>2019-11-06 11:39:45</td>\n",
       "      <td>2019-11-06 11:39:55</td>\n",
       "      <td>1</td>\n",
       "      <td>c1218a2988f8d4086a923398da4f0548b61ea5ea</td>\n",
       "      <td>11/06/2019 11:39:44</td>\n",
       "      <td>InvoiceRepositoryTests.cs</td>\n",
       "      <td>edit</td>\n",
       "      <td>28</td>\n",
       "      <td>...</td>\n",
       "      <td>0</td>\n",
       "      <td>0</td>\n",
       "      <td>0</td>\n",
       "      <td>0</td>\n",
       "      <td>0</td>\n",
       "      <td>0</td>\n",
       "      <td>0</td>\n",
       "      <td>0</td>\n",
       "      <td>0</td>\n",
       "      <td>1</td>\n",
       "    </tr>\n",
       "    <tr>\n",
       "      <th>2</th>\n",
       "      <td>35542</td>\n",
       "      <td>2020-03-24 12:43:40</td>\n",
       "      <td>2020-03-24 12:25:34</td>\n",
       "      <td>2020-03-24 12:43:40</td>\n",
       "      <td>0</td>\n",
       "      <td>60d289d4e5bd148fd0490b97f666102d5d437142</td>\n",
       "      <td>03/24/2020 12:25:33</td>\n",
       "      <td>Sgbdnl.Ebusiness.SalesOrder.Api.csproj</td>\n",
       "      <td>edit</td>\n",
       "      <td>35</td>\n",
       "      <td>...</td>\n",
       "      <td>0</td>\n",
       "      <td>0</td>\n",
       "      <td>1</td>\n",
       "      <td>0</td>\n",
       "      <td>0</td>\n",
       "      <td>0</td>\n",
       "      <td>0</td>\n",
       "      <td>0</td>\n",
       "      <td>0</td>\n",
       "      <td>1</td>\n",
       "    </tr>\n",
       "    <tr>\n",
       "      <th>3</th>\n",
       "      <td>33474</td>\n",
       "      <td>2020-02-05 11:15:31</td>\n",
       "      <td>2020-02-05 11:13:15</td>\n",
       "      <td>2020-02-05 11:13:18</td>\n",
       "      <td>1</td>\n",
       "      <td>1ca8690ebc1ec53458e5e94aa0783cb2e76c07c5</td>\n",
       "      <td>02/05/2020 11:12:23</td>\n",
       "      <td>BannerProfile.cs</td>\n",
       "      <td>edit</td>\n",
       "      <td>15</td>\n",
       "      <td>...</td>\n",
       "      <td>0</td>\n",
       "      <td>0</td>\n",
       "      <td>0</td>\n",
       "      <td>0</td>\n",
       "      <td>0</td>\n",
       "      <td>0</td>\n",
       "      <td>0</td>\n",
       "      <td>0</td>\n",
       "      <td>0</td>\n",
       "      <td>1</td>\n",
       "    </tr>\n",
       "    <tr>\n",
       "      <th>4</th>\n",
       "      <td>31738</td>\n",
       "      <td>2019-12-12 09:25:19</td>\n",
       "      <td>2019-12-12 08:57:48</td>\n",
       "      <td>2019-12-12 08:57:56</td>\n",
       "      <td>1</td>\n",
       "      <td>216a06602a8d5912f4dfead6cbc885f0f5bd7550</td>\n",
       "      <td>12/12/2019 08:57:33</td>\n",
       "      <td>sonar-project.properties</td>\n",
       "      <td>edit</td>\n",
       "      <td>19</td>\n",
       "      <td>...</td>\n",
       "      <td>0</td>\n",
       "      <td>0</td>\n",
       "      <td>0</td>\n",
       "      <td>0</td>\n",
       "      <td>0</td>\n",
       "      <td>0</td>\n",
       "      <td>0</td>\n",
       "      <td>0</td>\n",
       "      <td>0</td>\n",
       "      <td>1</td>\n",
       "    </tr>\n",
       "  </tbody>\n",
       "</table>\n",
       "<p>5 rows × 58 columns</p>\n",
       "</div>"
      ],
      "text/plain": [
       "   BuildId     BuildFinishTime      BuildQueueTime      BuildStartTime  \\\n",
       "0    31966 2019-12-20 09:51:47 2019-12-20 09:30:43 2019-12-20 09:46:48   \n",
       "1    30448 2019-11-06 11:51:52 2019-11-06 11:39:45 2019-11-06 11:39:55   \n",
       "2    35542 2020-03-24 12:43:40 2020-03-24 12:25:34 2020-03-24 12:43:40   \n",
       "3    33474 2020-02-05 11:15:31 2020-02-05 11:13:15 2020-02-05 11:13:18   \n",
       "4    31738 2019-12-12 09:25:19 2019-12-12 08:57:48 2019-12-12 08:57:56   \n",
       "\n",
       "   BuildResult                               ChangeSetId ChangeSetCreatedDate  \\\n",
       "0            1  1e3f0533f4a473cae0a8f86ff6a749532e091021  12/20/2019 09:30:42   \n",
       "1            1  c1218a2988f8d4086a923398da4f0548b61ea5ea  11/06/2019 11:39:44   \n",
       "2            0  60d289d4e5bd148fd0490b97f666102d5d437142  03/24/2020 12:25:33   \n",
       "3            1  1ca8690ebc1ec53458e5e94aa0783cb2e76c07c5  02/05/2020 11:12:23   \n",
       "4            1  216a06602a8d5912f4dfead6cbc885f0f5bd7550  12/12/2019 08:57:33   \n",
       "\n",
       "                         ChangeSetChangeFile ChangeSetChangeChangeType  user  \\\n",
       "0  GalvanoSendOrderB2BRequestHandlerTests.cs                      edit    28   \n",
       "1                  InvoiceRepositoryTests.cs                      edit    28   \n",
       "2     Sgbdnl.Ebusiness.SalesOrder.Api.csproj                      edit    35   \n",
       "3                           BannerProfile.cs                      edit    15   \n",
       "4                   sonar-project.properties                      edit    19   \n",
       "\n",
       "       ...       user_33  user_34  user_35  user_36  user_37  user_38  \\\n",
       "0      ...             0        0        0        0        0        0   \n",
       "1      ...             0        0        0        0        0        0   \n",
       "2      ...             0        0        1        0        0        0   \n",
       "3      ...             0        0        0        0        0        0   \n",
       "4      ...             0        0        0        0        0        0   \n",
       "\n",
       "   user_39  user_40  user_41  BuildGitRepo  \n",
       "0        0        0        0             1  \n",
       "1        0        0        0             1  \n",
       "2        0        0        0             1  \n",
       "3        0        0        0             1  \n",
       "4        0        0        0             1  \n",
       "\n",
       "[5 rows x 58 columns]"
      ]
     },
     "execution_count": 15,
     "metadata": {},
     "output_type": "execute_result"
    }
   ],
   "source": [
    "dataset.head(5)"
   ]
  },
  {
   "cell_type": "markdown",
   "metadata": {},
   "source": [
    "### Build timestamps\n",
    "\n",
    "- We have to convert the timestamps to something meaningful and useful for the model.  We will therefore extract the following relevant information:\n",
    "  - Build duration\n",
    "  - DayOfWeek\n",
    "  - TimeOfDay\n",
    "  \n",
    "__Suggestion__: I believe it could be relevant to have the information extracted how long it's been since the user did his/her last build.  \n"
   ]
  },
  {
   "cell_type": "code",
   "execution_count": 16,
   "metadata": {
    "ExecuteTime": {
     "end_time": "2020-04-28T07:45:56.710767Z",
     "start_time": "2020-04-28T07:45:44.207078Z"
    }
   },
   "outputs": [],
   "source": [
    "dataset['BuildDuration'] = dataset.apply(lambda row: (row['BuildFinishTime'] - row['BuildStartTime']).total_seconds(), axis=1)\n",
    "dataset['DayOfWeek'] = dataset.BuildFinishTime.dt.dayofweek\n",
    "dataset['HourOfDay'] = dataset.BuildFinishTime.dt.hour"
   ]
  },
  {
   "cell_type": "code",
   "execution_count": 17,
   "metadata": {
    "ExecuteTime": {
     "end_time": "2020-04-28T07:45:56.747968Z",
     "start_time": "2020-04-28T07:45:56.712603Z"
    }
   },
   "outputs": [],
   "source": [
    "dataset.drop(\n",
    "    ['BuildFinishTime', 'BuildStartTime', 'BuildQueueTime'], \n",
    "    axis=1, inplace=True) "
   ]
  },
  {
   "cell_type": "markdown",
   "metadata": {},
   "source": [
    "### Build aggregates\n",
    "\n",
    "The dataset contains multiple records for one build, though we are predicting the actual build.  Therefore, we have to make some groupings, some aggregate logic that could be meaningful.  This is what happens in the next cells:\n",
    "\n",
    "__Adding new calculations__:\n",
    "\n",
    "- ChangeSetCount : number of changesets linked to build\n",
    "- ChangeSetUsersInvolved : number of users involved with changesets for the build\n",
    "- EditCount : number of edited files\n",
    "- AddCount : number of added files\n",
    "- DeleteCount : number of deleted files\n",
    "- RenameCount : number of renamed files\n",
    "- TestFileCount : number of test files involved in changesets\n",
    "- FilesInvolved : number of files involved with changeset\n"
   ]
  },
  {
   "cell_type": "markdown",
   "metadata": {},
   "source": [
    "#### Group by BuildId and aggregate dataset"
   ]
  },
  {
   "cell_type": "code",
   "execution_count": 18,
   "metadata": {
    "ExecuteTime": {
     "end_time": "2020-04-28T07:45:56.780548Z",
     "start_time": "2020-04-28T07:45:56.749839Z"
    }
   },
   "outputs": [],
   "source": [
    "# Showing available data of 1 build\n",
    "build_counter = Counter(dataset.BuildId)\n",
    "build_counter.most_common()\n",
    "\n",
    "# Taking one build that has multiple records linked to it\n",
    "build_id = 35610"
   ]
  },
  {
   "cell_type": "code",
   "execution_count": 19,
   "metadata": {
    "ExecuteTime": {
     "end_time": "2020-04-28T07:45:56.803801Z",
     "start_time": "2020-04-28T07:45:56.782585Z"
    }
   },
   "outputs": [
    {
     "data": {
      "text/html": [
       "<div>\n",
       "<style scoped>\n",
       "    .dataframe tbody tr th:only-of-type {\n",
       "        vertical-align: middle;\n",
       "    }\n",
       "\n",
       "    .dataframe tbody tr th {\n",
       "        vertical-align: top;\n",
       "    }\n",
       "\n",
       "    .dataframe thead th {\n",
       "        text-align: right;\n",
       "    }\n",
       "</style>\n",
       "<table border=\"1\" class=\"dataframe\">\n",
       "  <thead>\n",
       "    <tr style=\"text-align: right;\">\n",
       "      <th></th>\n",
       "      <th>BuildId</th>\n",
       "      <th>BuildResult</th>\n",
       "      <th>ChangeSetId</th>\n",
       "      <th>ChangeSetCreatedDate</th>\n",
       "      <th>ChangeSetChangeFile</th>\n",
       "      <th>ChangeSetChangeChangeType</th>\n",
       "      <th>user</th>\n",
       "      <th>changeset_isedit</th>\n",
       "      <th>changeset_isadd</th>\n",
       "      <th>changeset_isdelete</th>\n",
       "      <th>...</th>\n",
       "      <th>user_36</th>\n",
       "      <th>user_37</th>\n",
       "      <th>user_38</th>\n",
       "      <th>user_39</th>\n",
       "      <th>user_40</th>\n",
       "      <th>user_41</th>\n",
       "      <th>BuildGitRepo</th>\n",
       "      <th>BuildDuration</th>\n",
       "      <th>DayOfWeek</th>\n",
       "      <th>HourOfDay</th>\n",
       "    </tr>\n",
       "  </thead>\n",
       "  <tbody>\n",
       "    <tr>\n",
       "      <th>55846</th>\n",
       "      <td>35610</td>\n",
       "      <td>0</td>\n",
       "      <td>373c35370470578235c06fcc4319f7082d15fe27</td>\n",
       "      <td>03/25/2020 09:32:10</td>\n",
       "      <td>app.module.ts</td>\n",
       "      <td>edit</td>\n",
       "      <td>17</td>\n",
       "      <td>1</td>\n",
       "      <td>0</td>\n",
       "      <td>0</td>\n",
       "      <td>...</td>\n",
       "      <td>0</td>\n",
       "      <td>0</td>\n",
       "      <td>0</td>\n",
       "      <td>0</td>\n",
       "      <td>0</td>\n",
       "      <td>0</td>\n",
       "      <td>1</td>\n",
       "      <td>1082.0</td>\n",
       "      <td>2</td>\n",
       "      <td>9</td>\n",
       "    </tr>\n",
       "    <tr>\n",
       "      <th>55847</th>\n",
       "      <td>35610</td>\n",
       "      <td>0</td>\n",
       "      <td>373c35370470578235c06fcc4319f7082d15fe27</td>\n",
       "      <td>03/25/2020 09:32:10</td>\n",
       "      <td>basket-flyout.module.ts</td>\n",
       "      <td>edit</td>\n",
       "      <td>17</td>\n",
       "      <td>1</td>\n",
       "      <td>0</td>\n",
       "      <td>0</td>\n",
       "      <td>...</td>\n",
       "      <td>0</td>\n",
       "      <td>0</td>\n",
       "      <td>0</td>\n",
       "      <td>0</td>\n",
       "      <td>0</td>\n",
       "      <td>0</td>\n",
       "      <td>1</td>\n",
       "      <td>1082.0</td>\n",
       "      <td>2</td>\n",
       "      <td>9</td>\n",
       "    </tr>\n",
       "    <tr>\n",
       "      <th>55848</th>\n",
       "      <td>35610</td>\n",
       "      <td>0</td>\n",
       "      <td>373c35370470578235c06fcc4319f7082d15fe27</td>\n",
       "      <td>03/25/2020 09:32:10</td>\n",
       "      <td>product-compare.controller.spec.ts</td>\n",
       "      <td>edit</td>\n",
       "      <td>17</td>\n",
       "      <td>1</td>\n",
       "      <td>0</td>\n",
       "      <td>0</td>\n",
       "      <td>...</td>\n",
       "      <td>0</td>\n",
       "      <td>0</td>\n",
       "      <td>0</td>\n",
       "      <td>0</td>\n",
       "      <td>0</td>\n",
       "      <td>0</td>\n",
       "      <td>1</td>\n",
       "      <td>1082.0</td>\n",
       "      <td>2</td>\n",
       "      <td>9</td>\n",
       "    </tr>\n",
       "    <tr>\n",
       "      <th>55849</th>\n",
       "      <td>35610</td>\n",
       "      <td>0</td>\n",
       "      <td>373c35370470578235c06fcc4319f7082d15fe27</td>\n",
       "      <td>03/25/2020 09:32:10</td>\n",
       "      <td>product-compare.controller.ts</td>\n",
       "      <td>edit</td>\n",
       "      <td>17</td>\n",
       "      <td>1</td>\n",
       "      <td>0</td>\n",
       "      <td>0</td>\n",
       "      <td>...</td>\n",
       "      <td>0</td>\n",
       "      <td>0</td>\n",
       "      <td>0</td>\n",
       "      <td>0</td>\n",
       "      <td>0</td>\n",
       "      <td>0</td>\n",
       "      <td>1</td>\n",
       "      <td>1082.0</td>\n",
       "      <td>2</td>\n",
       "      <td>9</td>\n",
       "    </tr>\n",
       "    <tr>\n",
       "      <th>55850</th>\n",
       "      <td>35610</td>\n",
       "      <td>0</td>\n",
       "      <td>373c35370470578235c06fcc4319f7082d15fe27</td>\n",
       "      <td>03/25/2020 09:32:10</td>\n",
       "      <td>product-quick-input.component.html</td>\n",
       "      <td>edit</td>\n",
       "      <td>17</td>\n",
       "      <td>1</td>\n",
       "      <td>0</td>\n",
       "      <td>0</td>\n",
       "      <td>...</td>\n",
       "      <td>0</td>\n",
       "      <td>0</td>\n",
       "      <td>0</td>\n",
       "      <td>0</td>\n",
       "      <td>0</td>\n",
       "      <td>0</td>\n",
       "      <td>1</td>\n",
       "      <td>1082.0</td>\n",
       "      <td>2</td>\n",
       "      <td>9</td>\n",
       "    </tr>\n",
       "  </tbody>\n",
       "</table>\n",
       "<p>5 rows × 58 columns</p>\n",
       "</div>"
      ],
      "text/plain": [
       "       BuildId  BuildResult                               ChangeSetId  \\\n",
       "55846    35610            0  373c35370470578235c06fcc4319f7082d15fe27   \n",
       "55847    35610            0  373c35370470578235c06fcc4319f7082d15fe27   \n",
       "55848    35610            0  373c35370470578235c06fcc4319f7082d15fe27   \n",
       "55849    35610            0  373c35370470578235c06fcc4319f7082d15fe27   \n",
       "55850    35610            0  373c35370470578235c06fcc4319f7082d15fe27   \n",
       "\n",
       "      ChangeSetCreatedDate                 ChangeSetChangeFile  \\\n",
       "55846  03/25/2020 09:32:10                       app.module.ts   \n",
       "55847  03/25/2020 09:32:10             basket-flyout.module.ts   \n",
       "55848  03/25/2020 09:32:10  product-compare.controller.spec.ts   \n",
       "55849  03/25/2020 09:32:10       product-compare.controller.ts   \n",
       "55850  03/25/2020 09:32:10  product-quick-input.component.html   \n",
       "\n",
       "      ChangeSetChangeChangeType  user  changeset_isedit  changeset_isadd  \\\n",
       "55846                      edit    17                 1                0   \n",
       "55847                      edit    17                 1                0   \n",
       "55848                      edit    17                 1                0   \n",
       "55849                      edit    17                 1                0   \n",
       "55850                      edit    17                 1                0   \n",
       "\n",
       "       changeset_isdelete    ...      user_36  user_37  user_38  user_39  \\\n",
       "55846                   0    ...            0        0        0        0   \n",
       "55847                   0    ...            0        0        0        0   \n",
       "55848                   0    ...            0        0        0        0   \n",
       "55849                   0    ...            0        0        0        0   \n",
       "55850                   0    ...            0        0        0        0   \n",
       "\n",
       "       user_40  user_41  BuildGitRepo  BuildDuration  DayOfWeek  HourOfDay  \n",
       "55846        0        0             1         1082.0          2          9  \n",
       "55847        0        0             1         1082.0          2          9  \n",
       "55848        0        0             1         1082.0          2          9  \n",
       "55849        0        0             1         1082.0          2          9  \n",
       "55850        0        0             1         1082.0          2          9  \n",
       "\n",
       "[5 rows x 58 columns]"
      ]
     },
     "execution_count": 19,
     "metadata": {},
     "output_type": "execute_result"
    }
   ],
   "source": [
    "build_df = dataset[dataset.BuildId == build_id]\n",
    "build_df.head(5)"
   ]
  },
  {
   "cell_type": "code",
   "execution_count": 20,
   "metadata": {
    "ExecuteTime": {
     "end_time": "2020-04-28T07:45:56.811668Z",
     "start_time": "2020-04-28T07:45:56.805275Z"
    }
   },
   "outputs": [],
   "source": [
    "def apply_group_logic(df, *args, **kwargs):\n",
    "    df['changeset_count'] = len(Counter(build_df.ChangeSetId))\n",
    "    df['involved_users_count'] = len(Counter(build_df.user))\n",
    "    df['files_involved'] = len(Counter(build_df.ChangeSetChangeFile))\n",
    "    df['contains_edits'] = df.changeset_isedit.max()\n",
    "    df['contains_additions'] = df.changeset_isadd.max()\n",
    "    df['contains_deletes'] = df.changeset_isdelete.max()\n",
    "    df['contains_renames'] = df.changeset_isrename.max()\n",
    "    df['contains_tests'] = df.changeset_involves_test.max()\n",
    "    for userid in range(41):\n",
    "        col_name = 'user_' + str(userid)\n",
    "        if(col_name in df.columns):\n",
    "            df[col_name] = df[col_name].sum()\n",
    "        else:\n",
    "            df[col_name] = 0\n",
    "    return df"
   ]
  },
  {
   "cell_type": "code",
   "execution_count": 38,
   "metadata": {
    "ExecuteTime": {
     "end_time": "2020-04-28T07:52:13.017223Z",
     "start_time": "2020-04-28T07:52:13.008599Z"
    }
   },
   "outputs": [],
   "source": [
    "def apply_build_group_logic(df, *args, **kwargs):\n",
    "    changeset_count = len(Counter(df.ChangeSetId))\n",
    "    involved_users_count = len(Counter(df.user))\n",
    "    files_involved = len(Counter(df.ChangeSetChangeFile))\n",
    "    contains_edits = df.changeset_isedit.max()\n",
    "    contains_additions = df.changeset_isadd.max()\n",
    "    contains_deletes = df.changeset_isdelete.max()\n",
    "    contains_renames = df.changeset_isrename.max()\n",
    "    contains_tests = df.changeset_involves_test.max()\n",
    "    build_git_repo = df.BuildGitRepo.max()\n",
    "    build_duration = df.BuildDuration.mean()\n",
    "    day_of_week = df.DayOfWeek.max()\n",
    "    hour_of_day = df.HourOfDay.max()\n",
    "    \n",
    "\n",
    "    \n",
    "    _grouped_result = pd.DataFrame(\n",
    "    {\n",
    "#        'BuildId': [build_id], \n",
    "        'changeset_count': [changeset_count], \n",
    "        'involved_users_count': [involved_users_count], \n",
    "        'files_involved': [files_involved], \n",
    "        'contains_edits': [contains_edits], \n",
    "        'contains_additions': [contains_additions], \n",
    "        'contains_deletes': [contains_deletes], \n",
    "        'contains_renames': [contains_renames], \n",
    "        'contains_tests': [contains_tests], \n",
    "        'build_git_repo' : [build_git_repo],\n",
    "        'build_duration' : [build_duration],\n",
    "        'day_of_week' : [day_of_week],\n",
    "        'hour_of_day' : [hour_of_day]\n",
    "    })\n",
    "\n",
    "    for userid in range(41):\n",
    "        col_name = 'user_' + str(userid)\n",
    "        if(col_name in df.columns):\n",
    "            _grouped_result[col_name] = df[col_name].sum()\n",
    "        else:\n",
    "            _grouped_result[col_name] = 0\n",
    "            \n",
    "    if('BuildResult' in df.columns):\n",
    "        _grouped_result['build_result'] = df.BuildResult.max()\n",
    "\n",
    "    return _grouped_result\n",
    "\n",
    "\n",
    "\n"
   ]
  },
  {
   "cell_type": "code",
   "execution_count": 22,
   "metadata": {
    "ExecuteTime": {
     "end_time": "2020-04-28T07:46:49.096672Z",
     "start_time": "2020-04-28T07:45:56.825254Z"
    }
   },
   "outputs": [
    {
     "name": "stdout",
     "output_type": "stream",
     "text": [
      "Index(['changeset_count', 'involved_users_count', 'files_involved',\n",
      "       'contains_edits', 'contains_additions', 'contains_deletes',\n",
      "       'contains_renames', 'contains_tests', 'build_git_repo',\n",
      "       'build_duration', 'day_of_week', 'hour_of_day', 'build_result',\n",
      "       'user_0', 'user_1', 'user_2', 'user_3', 'user_4', 'user_5', 'user_6',\n",
      "       'user_7', 'user_8', 'user_9', 'user_10', 'user_11', 'user_12',\n",
      "       'user_13', 'user_14', 'user_15', 'user_16', 'user_17', 'user_18',\n",
      "       'user_19', 'user_20', 'user_21', 'user_22', 'user_23', 'user_24',\n",
      "       'user_25', 'user_26', 'user_27', 'user_28', 'user_29', 'user_30',\n",
      "       'user_31', 'user_32', 'user_33', 'user_34', 'user_35', 'user_36',\n",
      "       'user_37', 'user_38', 'user_39', 'user_40'],\n",
      "      dtype='object')\n"
     ]
    }
   ],
   "source": [
    "grouped_df = dataset.groupby('BuildId', group_keys=True).apply(apply_build_group_logic)\n",
    "print(grouped_df.columns)\n"
   ]
  },
  {
   "cell_type": "code",
   "execution_count": 23,
   "metadata": {
    "ExecuteTime": {
     "end_time": "2020-04-28T07:46:49.120675Z",
     "start_time": "2020-04-28T07:46:49.099136Z"
    }
   },
   "outputs": [
    {
     "data": {
      "text/html": [
       "<div>\n",
       "<style scoped>\n",
       "    .dataframe tbody tr th:only-of-type {\n",
       "        vertical-align: middle;\n",
       "    }\n",
       "\n",
       "    .dataframe tbody tr th {\n",
       "        vertical-align: top;\n",
       "    }\n",
       "\n",
       "    .dataframe thead th {\n",
       "        text-align: right;\n",
       "    }\n",
       "</style>\n",
       "<table border=\"1\" class=\"dataframe\">\n",
       "  <thead>\n",
       "    <tr style=\"text-align: right;\">\n",
       "      <th></th>\n",
       "      <th></th>\n",
       "      <th>changeset_count</th>\n",
       "      <th>involved_users_count</th>\n",
       "      <th>files_involved</th>\n",
       "      <th>contains_edits</th>\n",
       "      <th>contains_additions</th>\n",
       "      <th>contains_deletes</th>\n",
       "      <th>contains_renames</th>\n",
       "      <th>contains_tests</th>\n",
       "      <th>build_git_repo</th>\n",
       "      <th>build_duration</th>\n",
       "      <th>...</th>\n",
       "      <th>user_31</th>\n",
       "      <th>user_32</th>\n",
       "      <th>user_33</th>\n",
       "      <th>user_34</th>\n",
       "      <th>user_35</th>\n",
       "      <th>user_36</th>\n",
       "      <th>user_37</th>\n",
       "      <th>user_38</th>\n",
       "      <th>user_39</th>\n",
       "      <th>user_40</th>\n",
       "    </tr>\n",
       "    <tr>\n",
       "      <th>BuildId</th>\n",
       "      <th></th>\n",
       "      <th></th>\n",
       "      <th></th>\n",
       "      <th></th>\n",
       "      <th></th>\n",
       "      <th></th>\n",
       "      <th></th>\n",
       "      <th></th>\n",
       "      <th></th>\n",
       "      <th></th>\n",
       "      <th></th>\n",
       "      <th></th>\n",
       "      <th></th>\n",
       "      <th></th>\n",
       "      <th></th>\n",
       "      <th></th>\n",
       "      <th></th>\n",
       "      <th></th>\n",
       "      <th></th>\n",
       "      <th></th>\n",
       "      <th></th>\n",
       "      <th></th>\n",
       "    </tr>\n",
       "  </thead>\n",
       "  <tbody>\n",
       "    <tr>\n",
       "      <th>5282</th>\n",
       "      <th>0</th>\n",
       "      <td>1</td>\n",
       "      <td>1</td>\n",
       "      <td>22</td>\n",
       "      <td>1</td>\n",
       "      <td>0</td>\n",
       "      <td>0</td>\n",
       "      <td>0</td>\n",
       "      <td>1</td>\n",
       "      <td>1</td>\n",
       "      <td>161.0</td>\n",
       "      <td>...</td>\n",
       "      <td>0</td>\n",
       "      <td>0</td>\n",
       "      <td>0</td>\n",
       "      <td>0</td>\n",
       "      <td>0</td>\n",
       "      <td>0</td>\n",
       "      <td>0</td>\n",
       "      <td>0</td>\n",
       "      <td>0</td>\n",
       "      <td>0</td>\n",
       "    </tr>\n",
       "    <tr>\n",
       "      <th>5371</th>\n",
       "      <th>0</th>\n",
       "      <td>8</td>\n",
       "      <td>1</td>\n",
       "      <td>42</td>\n",
       "      <td>1</td>\n",
       "      <td>1</td>\n",
       "      <td>0</td>\n",
       "      <td>0</td>\n",
       "      <td>1</td>\n",
       "      <td>1</td>\n",
       "      <td>162.0</td>\n",
       "      <td>...</td>\n",
       "      <td>0</td>\n",
       "      <td>0</td>\n",
       "      <td>0</td>\n",
       "      <td>0</td>\n",
       "      <td>0</td>\n",
       "      <td>0</td>\n",
       "      <td>0</td>\n",
       "      <td>0</td>\n",
       "      <td>0</td>\n",
       "      <td>0</td>\n",
       "    </tr>\n",
       "    <tr>\n",
       "      <th>5570</th>\n",
       "      <th>0</th>\n",
       "      <td>1</td>\n",
       "      <td>1</td>\n",
       "      <td>1</td>\n",
       "      <td>1</td>\n",
       "      <td>0</td>\n",
       "      <td>0</td>\n",
       "      <td>0</td>\n",
       "      <td>0</td>\n",
       "      <td>1</td>\n",
       "      <td>77.0</td>\n",
       "      <td>...</td>\n",
       "      <td>0</td>\n",
       "      <td>0</td>\n",
       "      <td>0</td>\n",
       "      <td>0</td>\n",
       "      <td>0</td>\n",
       "      <td>0</td>\n",
       "      <td>0</td>\n",
       "      <td>0</td>\n",
       "      <td>0</td>\n",
       "      <td>0</td>\n",
       "    </tr>\n",
       "    <tr>\n",
       "      <th>5581</th>\n",
       "      <th>0</th>\n",
       "      <td>1</td>\n",
       "      <td>1</td>\n",
       "      <td>1</td>\n",
       "      <td>1</td>\n",
       "      <td>0</td>\n",
       "      <td>0</td>\n",
       "      <td>0</td>\n",
       "      <td>0</td>\n",
       "      <td>1</td>\n",
       "      <td>55.0</td>\n",
       "      <td>...</td>\n",
       "      <td>0</td>\n",
       "      <td>0</td>\n",
       "      <td>0</td>\n",
       "      <td>0</td>\n",
       "      <td>0</td>\n",
       "      <td>0</td>\n",
       "      <td>0</td>\n",
       "      <td>0</td>\n",
       "      <td>0</td>\n",
       "      <td>0</td>\n",
       "    </tr>\n",
       "    <tr>\n",
       "      <th>5582</th>\n",
       "      <th>0</th>\n",
       "      <td>1</td>\n",
       "      <td>1</td>\n",
       "      <td>1</td>\n",
       "      <td>1</td>\n",
       "      <td>0</td>\n",
       "      <td>0</td>\n",
       "      <td>0</td>\n",
       "      <td>0</td>\n",
       "      <td>1</td>\n",
       "      <td>61.0</td>\n",
       "      <td>...</td>\n",
       "      <td>0</td>\n",
       "      <td>0</td>\n",
       "      <td>0</td>\n",
       "      <td>0</td>\n",
       "      <td>0</td>\n",
       "      <td>0</td>\n",
       "      <td>0</td>\n",
       "      <td>0</td>\n",
       "      <td>0</td>\n",
       "      <td>0</td>\n",
       "    </tr>\n",
       "  </tbody>\n",
       "</table>\n",
       "<p>5 rows × 54 columns</p>\n",
       "</div>"
      ],
      "text/plain": [
       "           changeset_count  involved_users_count  files_involved  \\\n",
       "BuildId                                                            \n",
       "5282    0                1                     1              22   \n",
       "5371    0                8                     1              42   \n",
       "5570    0                1                     1               1   \n",
       "5581    0                1                     1               1   \n",
       "5582    0                1                     1               1   \n",
       "\n",
       "           contains_edits  contains_additions  contains_deletes  \\\n",
       "BuildId                                                           \n",
       "5282    0               1                   0                 0   \n",
       "5371    0               1                   1                 0   \n",
       "5570    0               1                   0                 0   \n",
       "5581    0               1                   0                 0   \n",
       "5582    0               1                   0                 0   \n",
       "\n",
       "           contains_renames  contains_tests  build_git_repo  build_duration  \\\n",
       "BuildId                                                                       \n",
       "5282    0                 0               1               1           161.0   \n",
       "5371    0                 0               1               1           162.0   \n",
       "5570    0                 0               0               1            77.0   \n",
       "5581    0                 0               0               1            55.0   \n",
       "5582    0                 0               0               1            61.0   \n",
       "\n",
       "            ...     user_31  user_32  user_33  user_34  user_35  user_36  \\\n",
       "BuildId     ...                                                            \n",
       "5282    0   ...           0        0        0        0        0        0   \n",
       "5371    0   ...           0        0        0        0        0        0   \n",
       "5570    0   ...           0        0        0        0        0        0   \n",
       "5581    0   ...           0        0        0        0        0        0   \n",
       "5582    0   ...           0        0        0        0        0        0   \n",
       "\n",
       "           user_37  user_38  user_39  user_40  \n",
       "BuildId                                        \n",
       "5282    0        0        0        0        0  \n",
       "5371    0        0        0        0        0  \n",
       "5570    0        0        0        0        0  \n",
       "5581    0        0        0        0        0  \n",
       "5582    0        0        0        0        0  \n",
       "\n",
       "[5 rows x 54 columns]"
      ]
     },
     "execution_count": 23,
     "metadata": {},
     "output_type": "execute_result"
    }
   ],
   "source": [
    "grouped_df.head(5)\n"
   ]
  },
  {
   "cell_type": "markdown",
   "metadata": {},
   "source": [
    "# Logistic regression: Training & test set\n"
   ]
  },
  {
   "cell_type": "code",
   "execution_count": 24,
   "metadata": {
    "ExecuteTime": {
     "end_time": "2020-04-28T07:46:49.312341Z",
     "start_time": "2020-04-28T07:46:49.122870Z"
    }
   },
   "outputs": [
    {
     "data": {
      "text/html": [
       "<div>\n",
       "<style scoped>\n",
       "    .dataframe tbody tr th:only-of-type {\n",
       "        vertical-align: middle;\n",
       "    }\n",
       "\n",
       "    .dataframe tbody tr th {\n",
       "        vertical-align: top;\n",
       "    }\n",
       "\n",
       "    .dataframe thead th {\n",
       "        text-align: right;\n",
       "    }\n",
       "</style>\n",
       "<table border=\"1\" class=\"dataframe\">\n",
       "  <thead>\n",
       "    <tr style=\"text-align: right;\">\n",
       "      <th></th>\n",
       "      <th>changeset_count</th>\n",
       "      <th>involved_users_count</th>\n",
       "      <th>files_involved</th>\n",
       "      <th>contains_edits</th>\n",
       "      <th>contains_additions</th>\n",
       "      <th>contains_deletes</th>\n",
       "      <th>contains_renames</th>\n",
       "      <th>contains_tests</th>\n",
       "      <th>build_git_repo</th>\n",
       "      <th>build_duration</th>\n",
       "      <th>...</th>\n",
       "      <th>user_31</th>\n",
       "      <th>user_32</th>\n",
       "      <th>user_33</th>\n",
       "      <th>user_34</th>\n",
       "      <th>user_35</th>\n",
       "      <th>user_36</th>\n",
       "      <th>user_37</th>\n",
       "      <th>user_38</th>\n",
       "      <th>user_39</th>\n",
       "      <th>user_40</th>\n",
       "    </tr>\n",
       "  </thead>\n",
       "  <tbody>\n",
       "    <tr>\n",
       "      <th>count</th>\n",
       "      <td>2482.000000</td>\n",
       "      <td>2482.000000</td>\n",
       "      <td>2482.000000</td>\n",
       "      <td>2482.000000</td>\n",
       "      <td>2482.000000</td>\n",
       "      <td>2482.000000</td>\n",
       "      <td>2482.000000</td>\n",
       "      <td>2482.000000</td>\n",
       "      <td>2482.000000</td>\n",
       "      <td>2482.000000</td>\n",
       "      <td>...</td>\n",
       "      <td>2482.000000</td>\n",
       "      <td>2482.000000</td>\n",
       "      <td>2482.000000</td>\n",
       "      <td>2482.000000</td>\n",
       "      <td>2482.000000</td>\n",
       "      <td>2482.000000</td>\n",
       "      <td>2482.000000</td>\n",
       "      <td>2482.000000</td>\n",
       "      <td>2482.000000</td>\n",
       "      <td>2482.000000</td>\n",
       "    </tr>\n",
       "    <tr>\n",
       "      <th>mean</th>\n",
       "      <td>12.131346</td>\n",
       "      <td>2.122885</td>\n",
       "      <td>33.815068</td>\n",
       "      <td>0.995165</td>\n",
       "      <td>0.441579</td>\n",
       "      <td>0.318695</td>\n",
       "      <td>0.203868</td>\n",
       "      <td>0.342869</td>\n",
       "      <td>0.946414</td>\n",
       "      <td>472.821515</td>\n",
       "      <td>...</td>\n",
       "      <td>0.136583</td>\n",
       "      <td>0.071716</td>\n",
       "      <td>5.603948</td>\n",
       "      <td>0.000403</td>\n",
       "      <td>3.172039</td>\n",
       "      <td>0.032635</td>\n",
       "      <td>0.012893</td>\n",
       "      <td>0.700242</td>\n",
       "      <td>0.925866</td>\n",
       "      <td>0.023771</td>\n",
       "    </tr>\n",
       "    <tr>\n",
       "      <th>std</th>\n",
       "      <td>16.097561</td>\n",
       "      <td>1.692566</td>\n",
       "      <td>77.620238</td>\n",
       "      <td>0.069378</td>\n",
       "      <td>0.496675</td>\n",
       "      <td>0.466064</td>\n",
       "      <td>0.402953</td>\n",
       "      <td>0.474764</td>\n",
       "      <td>0.225244</td>\n",
       "      <td>460.733523</td>\n",
       "      <td>...</td>\n",
       "      <td>2.699120</td>\n",
       "      <td>2.525902</td>\n",
       "      <td>35.625282</td>\n",
       "      <td>0.020072</td>\n",
       "      <td>16.182449</td>\n",
       "      <td>0.918781</td>\n",
       "      <td>0.454095</td>\n",
       "      <td>24.663025</td>\n",
       "      <td>7.111094</td>\n",
       "      <td>0.595427</td>\n",
       "    </tr>\n",
       "    <tr>\n",
       "      <th>min</th>\n",
       "      <td>1.000000</td>\n",
       "      <td>1.000000</td>\n",
       "      <td>1.000000</td>\n",
       "      <td>0.000000</td>\n",
       "      <td>0.000000</td>\n",
       "      <td>0.000000</td>\n",
       "      <td>0.000000</td>\n",
       "      <td>0.000000</td>\n",
       "      <td>0.000000</td>\n",
       "      <td>0.000000</td>\n",
       "      <td>...</td>\n",
       "      <td>0.000000</td>\n",
       "      <td>0.000000</td>\n",
       "      <td>0.000000</td>\n",
       "      <td>0.000000</td>\n",
       "      <td>0.000000</td>\n",
       "      <td>0.000000</td>\n",
       "      <td>0.000000</td>\n",
       "      <td>0.000000</td>\n",
       "      <td>0.000000</td>\n",
       "      <td>0.000000</td>\n",
       "    </tr>\n",
       "    <tr>\n",
       "      <th>25%</th>\n",
       "      <td>2.000000</td>\n",
       "      <td>1.000000</td>\n",
       "      <td>2.000000</td>\n",
       "      <td>1.000000</td>\n",
       "      <td>0.000000</td>\n",
       "      <td>0.000000</td>\n",
       "      <td>0.000000</td>\n",
       "      <td>0.000000</td>\n",
       "      <td>1.000000</td>\n",
       "      <td>130.250000</td>\n",
       "      <td>...</td>\n",
       "      <td>0.000000</td>\n",
       "      <td>0.000000</td>\n",
       "      <td>0.000000</td>\n",
       "      <td>0.000000</td>\n",
       "      <td>0.000000</td>\n",
       "      <td>0.000000</td>\n",
       "      <td>0.000000</td>\n",
       "      <td>0.000000</td>\n",
       "      <td>0.000000</td>\n",
       "      <td>0.000000</td>\n",
       "    </tr>\n",
       "    <tr>\n",
       "      <th>50%</th>\n",
       "      <td>4.000000</td>\n",
       "      <td>1.000000</td>\n",
       "      <td>8.000000</td>\n",
       "      <td>1.000000</td>\n",
       "      <td>0.000000</td>\n",
       "      <td>0.000000</td>\n",
       "      <td>0.000000</td>\n",
       "      <td>0.000000</td>\n",
       "      <td>1.000000</td>\n",
       "      <td>289.000000</td>\n",
       "      <td>...</td>\n",
       "      <td>0.000000</td>\n",
       "      <td>0.000000</td>\n",
       "      <td>0.000000</td>\n",
       "      <td>0.000000</td>\n",
       "      <td>0.000000</td>\n",
       "      <td>0.000000</td>\n",
       "      <td>0.000000</td>\n",
       "      <td>0.000000</td>\n",
       "      <td>0.000000</td>\n",
       "      <td>0.000000</td>\n",
       "    </tr>\n",
       "    <tr>\n",
       "      <th>75%</th>\n",
       "      <td>14.000000</td>\n",
       "      <td>2.000000</td>\n",
       "      <td>33.000000</td>\n",
       "      <td>1.000000</td>\n",
       "      <td>1.000000</td>\n",
       "      <td>1.000000</td>\n",
       "      <td>0.000000</td>\n",
       "      <td>1.000000</td>\n",
       "      <td>1.000000</td>\n",
       "      <td>724.750000</td>\n",
       "      <td>...</td>\n",
       "      <td>0.000000</td>\n",
       "      <td>0.000000</td>\n",
       "      <td>0.000000</td>\n",
       "      <td>0.000000</td>\n",
       "      <td>0.000000</td>\n",
       "      <td>0.000000</td>\n",
       "      <td>0.000000</td>\n",
       "      <td>0.000000</td>\n",
       "      <td>0.000000</td>\n",
       "      <td>0.000000</td>\n",
       "    </tr>\n",
       "    <tr>\n",
       "      <th>max</th>\n",
       "      <td>50.000000</td>\n",
       "      <td>10.000000</td>\n",
       "      <td>1630.000000</td>\n",
       "      <td>1.000000</td>\n",
       "      <td>1.000000</td>\n",
       "      <td>1.000000</td>\n",
       "      <td>1.000000</td>\n",
       "      <td>1.000000</td>\n",
       "      <td>1.000000</td>\n",
       "      <td>4340.000000</td>\n",
       "      <td>...</td>\n",
       "      <td>95.000000</td>\n",
       "      <td>89.000000</td>\n",
       "      <td>671.000000</td>\n",
       "      <td>1.000000</td>\n",
       "      <td>239.000000</td>\n",
       "      <td>42.000000</td>\n",
       "      <td>16.000000</td>\n",
       "      <td>869.000000</td>\n",
       "      <td>114.000000</td>\n",
       "      <td>17.000000</td>\n",
       "    </tr>\n",
       "  </tbody>\n",
       "</table>\n",
       "<p>8 rows × 54 columns</p>\n",
       "</div>"
      ],
      "text/plain": [
       "       changeset_count  involved_users_count  files_involved  contains_edits  \\\n",
       "count      2482.000000           2482.000000     2482.000000     2482.000000   \n",
       "mean         12.131346              2.122885       33.815068        0.995165   \n",
       "std          16.097561              1.692566       77.620238        0.069378   \n",
       "min           1.000000              1.000000        1.000000        0.000000   \n",
       "25%           2.000000              1.000000        2.000000        1.000000   \n",
       "50%           4.000000              1.000000        8.000000        1.000000   \n",
       "75%          14.000000              2.000000       33.000000        1.000000   \n",
       "max          50.000000             10.000000     1630.000000        1.000000   \n",
       "\n",
       "       contains_additions  contains_deletes  contains_renames  contains_tests  \\\n",
       "count         2482.000000       2482.000000       2482.000000     2482.000000   \n",
       "mean             0.441579          0.318695          0.203868        0.342869   \n",
       "std              0.496675          0.466064          0.402953        0.474764   \n",
       "min              0.000000          0.000000          0.000000        0.000000   \n",
       "25%              0.000000          0.000000          0.000000        0.000000   \n",
       "50%              0.000000          0.000000          0.000000        0.000000   \n",
       "75%              1.000000          1.000000          0.000000        1.000000   \n",
       "max              1.000000          1.000000          1.000000        1.000000   \n",
       "\n",
       "       build_git_repo  build_duration     ...           user_31      user_32  \\\n",
       "count     2482.000000     2482.000000     ...       2482.000000  2482.000000   \n",
       "mean         0.946414      472.821515     ...          0.136583     0.071716   \n",
       "std          0.225244      460.733523     ...          2.699120     2.525902   \n",
       "min          0.000000        0.000000     ...          0.000000     0.000000   \n",
       "25%          1.000000      130.250000     ...          0.000000     0.000000   \n",
       "50%          1.000000      289.000000     ...          0.000000     0.000000   \n",
       "75%          1.000000      724.750000     ...          0.000000     0.000000   \n",
       "max          1.000000     4340.000000     ...         95.000000    89.000000   \n",
       "\n",
       "           user_33      user_34      user_35      user_36      user_37  \\\n",
       "count  2482.000000  2482.000000  2482.000000  2482.000000  2482.000000   \n",
       "mean      5.603948     0.000403     3.172039     0.032635     0.012893   \n",
       "std      35.625282     0.020072    16.182449     0.918781     0.454095   \n",
       "min       0.000000     0.000000     0.000000     0.000000     0.000000   \n",
       "25%       0.000000     0.000000     0.000000     0.000000     0.000000   \n",
       "50%       0.000000     0.000000     0.000000     0.000000     0.000000   \n",
       "75%       0.000000     0.000000     0.000000     0.000000     0.000000   \n",
       "max     671.000000     1.000000   239.000000    42.000000    16.000000   \n",
       "\n",
       "           user_38      user_39      user_40  \n",
       "count  2482.000000  2482.000000  2482.000000  \n",
       "mean      0.700242     0.925866     0.023771  \n",
       "std      24.663025     7.111094     0.595427  \n",
       "min       0.000000     0.000000     0.000000  \n",
       "25%       0.000000     0.000000     0.000000  \n",
       "50%       0.000000     0.000000     0.000000  \n",
       "75%       0.000000     0.000000     0.000000  \n",
       "max     869.000000   114.000000    17.000000  \n",
       "\n",
       "[8 rows x 54 columns]"
      ]
     },
     "execution_count": 24,
     "metadata": {},
     "output_type": "execute_result"
    }
   ],
   "source": [
    "grouped_df.describe()"
   ]
  },
  {
   "cell_type": "code",
   "execution_count": 25,
   "metadata": {
    "ExecuteTime": {
     "end_time": "2020-04-28T07:46:49.362979Z",
     "start_time": "2020-04-28T07:46:49.320820Z"
    }
   },
   "outputs": [],
   "source": [
    "userless_df = grouped_df.copy()\n",
    "for col in userless_df.columns:\n",
    "    if(col.startswith('user')):\n",
    "        userless_df.drop(col, axis=1, inplace=True)"
   ]
  },
  {
   "cell_type": "code",
   "execution_count": 26,
   "metadata": {
    "ExecuteTime": {
     "end_time": "2020-04-28T07:46:50.743439Z",
     "start_time": "2020-04-28T07:46:49.367795Z"
    }
   },
   "outputs": [
    {
     "data": {
      "text/plain": [
       "<matplotlib.axes._subplots.AxesSubplot at 0x141322650>"
      ]
     },
     "execution_count": 26,
     "metadata": {},
     "output_type": "execute_result"
    },
    {
     "data": {
      "image/png": "[encoded data removed]",
      "text/plain": [
       "<Figure size 720x576 with 2 Axes>"
      ]
     },
     "metadata": {
      "needs_background": "light"
     },
     "output_type": "display_data"
    }
   ],
   "source": [
    "f, ax = plt.subplots(figsize=(10, 8))\n",
    "corr = userless_df.corr()\n",
    "sns.heatmap(corr, mask=np.zeros_like(corr, dtype=np.bool), cmap=sns.diverging_palette(\n",
    "    220, 10, as_cmap=True), square=True, ax=ax, annot=True)"
   ]
  },
  {
   "cell_type": "markdown",
   "metadata": {
    "ExecuteTime": {
     "end_time": "2020-04-27T11:19:14.868582Z",
     "start_time": "2020-04-27T11:19:14.866693Z"
    }
   },
   "source": [
    "## Check data balance\n",
    "\n",
    "Checking the balancing of the data.  Do we have enough failed builds?"
   ]
  },
  {
   "cell_type": "code",
   "execution_count": 27,
   "metadata": {
    "ExecuteTime": {
     "end_time": "2020-04-28T07:46:50.754614Z",
     "start_time": "2020-04-28T07:46:50.745457Z"
    }
   },
   "outputs": [],
   "source": [
    "y = grouped_df.build_result\n",
    "X = grouped_df.drop('build_result', axis=1)\n",
    "X_train, X_test, y_train, y_test = train_test_split(X, y, test_size=0.33, random_state=0)\n"
   ]
  },
  {
   "cell_type": "code",
   "execution_count": 28,
   "metadata": {
    "ExecuteTime": {
     "end_time": "2020-04-28T07:46:50.761887Z",
     "start_time": "2020-04-28T07:46:50.756581Z"
    }
   },
   "outputs": [
    {
     "data": {
      "text/plain": [
       "Counter({1: 713, 0: 107})"
      ]
     },
     "metadata": {},
     "output_type": "display_data"
    }
   ],
   "source": [
    "display(Counter(y_test))"
   ]
  },
  {
   "cell_type": "markdown",
   "metadata": {},
   "source": [
    "## Apply logistic regression"
   ]
  },
  {
   "cell_type": "code",
   "execution_count": 29,
   "metadata": {
    "ExecuteTime": {
     "end_time": "2020-04-28T07:46:50.952306Z",
     "start_time": "2020-04-28T07:46:50.764798Z"
    }
   },
   "outputs": [
    {
     "name": "stdout",
     "output_type": "stream",
     "text": [
      "              precision    recall  f1-score   support\n",
      "\n",
      "           0       0.78      0.17      0.28       107\n",
      "           1       0.89      0.99      0.94       713\n",
      "\n",
      "    accuracy                           0.89       820\n",
      "   macro avg       0.84      0.58      0.61       820\n",
      "weighted avg       0.87      0.89      0.85       820\n",
      "\n",
      "88.53658536585365\n",
      "[[ 18  89]\n",
      " [  5 708]]\n"
     ]
    }
   ],
   "source": [
    "from sklearn import linear_model\n",
    "from sklearn.metrics import classification_report, accuracy_score, confusion_matrix\n",
    "# C = inverse of regularization strength.  Smaller values result in stronger regularization\n",
    "# Different solvers : https://stackoverflow.com/questions/38640109/logistic-regression-python-solvers-defintions\n",
    "logreg = linear_model.LogisticRegression(C=1, solver='liblinear') \n",
    "logreg.fit(X, y)\n",
    "\n",
    "#print('coefficiënten: ',logreg.coef_)\n",
    "#print('intercept:',logreg.intercept_)\n",
    "\n",
    "y_pred = logreg.predict(X_test)\n",
    "print(classification_report(y_test,y_pred))\n",
    "print(accuracy_score(y_test,y_pred)*100)\n",
    "print(confusion_matrix(y_test,y_pred))"
   ]
  },
  {
   "cell_type": "markdown",
   "metadata": {
    "ExecuteTime": {
     "end_time": "2020-04-27T11:49:53.094093Z",
     "start_time": "2020-04-27T11:49:53.092289Z"
    }
   },
   "source": [
    "## Hyper parameter tuning"
   ]
  },
  {
   "cell_type": "code",
   "execution_count": 30,
   "metadata": {
    "ExecuteTime": {
     "end_time": "2020-04-28T07:46:50.960591Z",
     "start_time": "2020-04-28T07:46:50.955218Z"
    }
   },
   "outputs": [],
   "source": [
    "# Reusable evaluation functions\n",
    "def SearchHyperParameters(cv_searcher, \n",
    "                          X_train, y_train, X_test, y_test, \n",
    "                          scoring_parameter, fold_count):\n",
    "\n",
    "    cv_searcher.scoring = scoring_parameter\n",
    "    cv_searcher.cv = fold_count\n",
    "    cv_searcher.n_jobs = -1\n",
    "    cv_searcher.verbose = 5\n",
    "\n",
    "    search_model = cv_searcher.fit(X_train, y_train)\n",
    "    return search_model\n"
   ]
  },
  {
   "cell_type": "code",
   "execution_count": 31,
   "metadata": {
    "ExecuteTime": {
     "end_time": "2020-04-28T07:47:54.568803Z",
     "start_time": "2020-04-28T07:46:50.963681Z"
    }
   },
   "outputs": [
    {
     "name": "stdout",
     "output_type": "stream",
     "text": [
      "Fitting 10 folds for each of 120 candidates, totalling 1200 fits\n"
     ]
    },
    {
     "name": "stderr",
     "output_type": "stream",
     "text": [
      "[Parallel(n_jobs=-1)]: Using backend LokyBackend with 16 concurrent workers.\n",
      "[Parallel(n_jobs=-1)]: Done  40 tasks      | elapsed:    3.5s\n",
      "[Parallel(n_jobs=-1)]: Done 130 tasks      | elapsed:    6.5s\n",
      "[Parallel(n_jobs=-1)]: Done 256 tasks      | elapsed:   11.2s\n",
      "[Parallel(n_jobs=-1)]: Done 418 tasks      | elapsed:   18.0s\n",
      "[Parallel(n_jobs=-1)]: Done 616 tasks      | elapsed:   28.7s\n",
      "[Parallel(n_jobs=-1)]: Done 850 tasks      | elapsed:   42.6s\n",
      "[Parallel(n_jobs=-1)]: Done 1120 tasks      | elapsed:   59.1s\n",
      "[Parallel(n_jobs=-1)]: Done 1200 out of 1200 | elapsed:  1.1min finished\n",
      "/usr/local/lib/python3.7/site-packages/sklearn/linear_model/_sag.py:330: ConvergenceWarning: The max_iter was reached which means the coef_ did not converge\n",
      "  \"the coef_ did not converge\", ConvergenceWarning)\n"
     ]
    }
   ],
   "source": [
    "from sklearn.model_selection import GridSearchCV\n",
    "from sklearn.model_selection import RandomizedSearchCV\n",
    "\n",
    "logistic_parameters = {'solver': ['newton-cg', 'liblinear', 'saga'],\n",
    "                        'C': np.linspace(0.01,30,20), # haal C uit een random logaritmische distribution van 20 stappen\n",
    "                        'class_weight': ['balanced', None]}\n",
    "\n",
    "fold_count = 6\n",
    "cv_searcher = GridSearchCV(estimator = logreg, param_grid = logistic_parameters)\n",
    "\n",
    "best_model = SearchHyperParameters(cv_searcher, X_train, y_train, X_test, y_test, 'accuracy', 10)\n"
   ]
  },
  {
   "cell_type": "code",
   "execution_count": 32,
   "metadata": {
    "ExecuteTime": {
     "end_time": "2020-04-28T07:47:54.599460Z",
     "start_time": "2020-04-28T07:47:54.572012Z"
    }
   },
   "outputs": [
    {
     "name": "stdout",
     "output_type": "stream",
     "text": [
      "Best accuracy :  0.8820683933338141\n",
      "Best parameters : {'C': 0.01, 'class_weight': None, 'solver': 'saga'}\n",
      "              precision    recall  f1-score   support\n",
      "\n",
      "           0       0.20      0.01      0.02       107\n",
      "           1       0.87      0.99      0.93       713\n",
      "\n",
      "    accuracy                           0.87       820\n",
      "   macro avg       0.53      0.50      0.47       820\n",
      "weighted avg       0.78      0.87      0.81       820\n",
      "\n",
      "[[  1 106]\n",
      " [  4 709]]\n",
      "86.58536585365853\n"
     ]
    }
   ],
   "source": [
    "best_accuracy = best_model.best_score_\n",
    "best_parameters = best_model.best_params_\n",
    "\n",
    "print('Best accuracy : ', best_model.best_score_)\n",
    "print('Best parameters :', best_model.best_params_)\n",
    "\n",
    "y_pred = best_model.predict(X_test)\n",
    "print(classification_report(y_test, y_pred))\n",
    "\n",
    "cf = confusion_matrix(y_test, y_pred)\n",
    "print(cf)\n",
    "accuracy = accuracy_score(y_test, y_pred) * 100\n",
    "print(accuracy)"
   ]
  },
  {
   "cell_type": "markdown",
   "metadata": {},
   "source": [
    "### Saving the model to disk"
   ]
  },
  {
   "cell_type": "code",
   "execution_count": 33,
   "metadata": {
    "ExecuteTime": {
     "end_time": "2020-04-28T07:47:54.617473Z",
     "start_time": "2020-04-28T07:47:54.603945Z"
    }
   },
   "outputs": [],
   "source": [
    "filename = './models/smart-devops-logreg.sav'\n",
    "pickle.dump(best_model, open(filename, 'wb'))\n",
    "pickle.dump(best_model.best_params_, open('./models/smart-devops-logreg.par', 'wb'))"
   ]
  },
  {
   "cell_type": "markdown",
   "metadata": {},
   "source": [
    "## Model execution & prediction"
   ]
  },
  {
   "cell_type": "code",
   "execution_count": 35,
   "metadata": {
    "ExecuteTime": {
     "end_time": "2020-04-28T07:49:26.738196Z",
     "start_time": "2020-04-28T07:49:26.733950Z"
    }
   },
   "outputs": [],
   "source": [
    "loaded_model = pickle.load(open(filename, 'rb'))"
   ]
  },
  {
   "cell_type": "markdown",
   "metadata": {},
   "source": [
    "### Function to parse input data"
   ]
  },
  {
   "cell_type": "code",
   "execution_count": 36,
   "metadata": {
    "ExecuteTime": {
     "end_time": "2020-04-28T07:49:47.678852Z",
     "start_time": "2020-04-28T07:49:47.665902Z"
    }
   },
   "outputs": [],
   "source": [
    "def prepare_data(input_data: pd.DataFrame) -> pd.DataFrame:\n",
    "    input_data.drop(\n",
    "    ['DefinitionId', 'DefinitionName', 'DefinitionQueueStatus', 'DefinitionType'], \n",
    "    axis=1, inplace=True) \n",
    "    \n",
    "    ## Save cat codes and reload cat codes on parse, as new codes can appear\n",
    "    input_data.ChangeSetCheckedInBy = pd.Categorical(input_data.ChangeSetCheckedInBy)\n",
    "    input_data['user'] = input_data.ChangeSetCheckedInBy.cat.codes\n",
    "\n",
    "    input_data.drop('ChangeSetCheckedInBy', axis=1, inplace=True) \n",
    "    \n",
    "    # Handle timestamps\n",
    "    input_data['BuildFinishTime'] = pd.to_datetime(input_data['BuildFinishTime']) \n",
    "    input_data['BuildQueueTime'] = pd.to_datetime(input_data['BuildQueueTime']) \n",
    "    input_data['BuildStartTime'] = pd.to_datetime(input_data['BuildStartTime']) \n",
    "\n",
    "    # Set properties\n",
    "    input_data['changeset_isedit'] = input_data['ChangeSetChangeChangeType'].apply(\n",
    "        lambda ct: 1 if (str(ct).lower().find(\"edit\") > -1) else 0)\n",
    "    input_data['changeset_isadd'] = input_data['ChangeSetChangeChangeType'].apply(\n",
    "        lambda ct: 1 if (str(ct).lower().find(\"add\") > -1) else 0)\n",
    "    input_data['changeset_isdelete'] = input_data['ChangeSetChangeChangeType'].apply(\n",
    "        lambda ct: 1 if (str(ct).lower().find(\"delete\") > -1) else 0)\n",
    "    input_data['changeset_isrename'] = input_data['ChangeSetChangeChangeType'].apply(\n",
    "        lambda ct: 1 if (str(ct).lower().find(\"rename\") > -1) else 0)\n",
    "    input_data['changeset_involves_test'] = input_data['ChangeSetChangeFile'].apply(\n",
    "        lambda ct: 1 if (str(ct).lower().find(\"test\") > -1) else 0)\n",
    "    \n",
    "    input_data = OneHotEncode(input_data, 'user')\n",
    "    \n",
    "    input_data['BuildGitRepo'] = input_data['BuildRepositoryType'].apply(\n",
    "        lambda repotype: 1 if (str(repotype).lower().find(\"git\") > -1) else 0)\n",
    "    input_data.drop('BuildRepositoryType', axis=1, inplace=True) \n",
    "\n",
    "    input_data['BuildDuration'] = input_data.apply(\n",
    "        lambda row: (row['BuildFinishTime'] - row['BuildStartTime']).total_seconds(), axis=1)\n",
    "    input_data['DayOfWeek'] = input_data.BuildFinishTime.dt.dayofweek\n",
    "    input_data['HourOfDay'] = input_data.BuildFinishTime.dt.hour\n",
    "\n",
    "    input_data.drop(\n",
    "        ['BuildFinishTime', 'BuildStartTime', 'BuildQueueTime'], \n",
    "        axis=1, inplace=True) \n",
    "    \n",
    "    print(Counter(input_data['BuildId']))\n",
    "\n",
    "    _grouped_df = input_data.groupby('BuildId')\n",
    "    _grouped_df = _grouped_df.apply(apply_build_group_logic)\n",
    "    \n",
    "    _grouped_df = _grouped_df.fillna(0)\n",
    "    \n",
    "    return _grouped_df\n"
   ]
  },
  {
   "cell_type": "markdown",
   "metadata": {},
   "source": [
    "### Load test file and predict"
   ]
  },
  {
   "cell_type": "code",
   "execution_count": 39,
   "metadata": {
    "ExecuteTime": {
     "end_time": "2020-04-28T07:52:17.230553Z",
     "start_time": "2020-04-28T07:52:17.113312Z"
    }
   },
   "outputs": [
    {
     "name": "stdout",
     "output_type": "stream",
     "text": [
      "Number of changeset records:  131\n",
      "Counter({14171: 131})\n"
     ]
    },
    {
     "data": {
      "text/html": [
       "<div>\n",
       "<style scoped>\n",
       "    .dataframe tbody tr th:only-of-type {\n",
       "        vertical-align: middle;\n",
       "    }\n",
       "\n",
       "    .dataframe tbody tr th {\n",
       "        vertical-align: top;\n",
       "    }\n",
       "\n",
       "    .dataframe thead th {\n",
       "        text-align: right;\n",
       "    }\n",
       "</style>\n",
       "<table border=\"1\" class=\"dataframe\">\n",
       "  <thead>\n",
       "    <tr style=\"text-align: right;\">\n",
       "      <th></th>\n",
       "      <th></th>\n",
       "      <th>changeset_count</th>\n",
       "      <th>involved_users_count</th>\n",
       "      <th>files_involved</th>\n",
       "      <th>contains_edits</th>\n",
       "      <th>contains_additions</th>\n",
       "      <th>contains_deletes</th>\n",
       "      <th>contains_renames</th>\n",
       "      <th>contains_tests</th>\n",
       "      <th>build_git_repo</th>\n",
       "      <th>build_duration</th>\n",
       "      <th>...</th>\n",
       "      <th>user_31</th>\n",
       "      <th>user_32</th>\n",
       "      <th>user_33</th>\n",
       "      <th>user_34</th>\n",
       "      <th>user_35</th>\n",
       "      <th>user_36</th>\n",
       "      <th>user_37</th>\n",
       "      <th>user_38</th>\n",
       "      <th>user_39</th>\n",
       "      <th>user_40</th>\n",
       "    </tr>\n",
       "    <tr>\n",
       "      <th>BuildId</th>\n",
       "      <th></th>\n",
       "      <th></th>\n",
       "      <th></th>\n",
       "      <th></th>\n",
       "      <th></th>\n",
       "      <th></th>\n",
       "      <th></th>\n",
       "      <th></th>\n",
       "      <th></th>\n",
       "      <th></th>\n",
       "      <th></th>\n",
       "      <th></th>\n",
       "      <th></th>\n",
       "      <th></th>\n",
       "      <th></th>\n",
       "      <th></th>\n",
       "      <th></th>\n",
       "      <th></th>\n",
       "      <th></th>\n",
       "      <th></th>\n",
       "      <th></th>\n",
       "      <th></th>\n",
       "    </tr>\n",
       "  </thead>\n",
       "  <tbody>\n",
       "    <tr>\n",
       "      <th>14171</th>\n",
       "      <th>0</th>\n",
       "      <td>50</td>\n",
       "      <td>5</td>\n",
       "      <td>26</td>\n",
       "      <td>1</td>\n",
       "      <td>1</td>\n",
       "      <td>0</td>\n",
       "      <td>0</td>\n",
       "      <td>0</td>\n",
       "      <td>1</td>\n",
       "      <td>104.0</td>\n",
       "      <td>...</td>\n",
       "      <td>0</td>\n",
       "      <td>0</td>\n",
       "      <td>0</td>\n",
       "      <td>0</td>\n",
       "      <td>0</td>\n",
       "      <td>0</td>\n",
       "      <td>0</td>\n",
       "      <td>0</td>\n",
       "      <td>0</td>\n",
       "      <td>0</td>\n",
       "    </tr>\n",
       "  </tbody>\n",
       "</table>\n",
       "<p>1 rows × 53 columns</p>\n",
       "</div>"
      ],
      "text/plain": [
       "           changeset_count  involved_users_count  files_involved  \\\n",
       "BuildId                                                            \n",
       "14171   0               50                     5              26   \n",
       "\n",
       "           contains_edits  contains_additions  contains_deletes  \\\n",
       "BuildId                                                           \n",
       "14171   0               1                   1                 0   \n",
       "\n",
       "           contains_renames  contains_tests  build_git_repo  build_duration  \\\n",
       "BuildId                                                                       \n",
       "14171   0                 0               0               1           104.0   \n",
       "\n",
       "            ...     user_31  user_32  user_33  user_34  user_35  user_36  \\\n",
       "BuildId     ...                                                            \n",
       "14171   0   ...           0        0        0        0        0        0   \n",
       "\n",
       "           user_37  user_38  user_39  user_40  \n",
       "BuildId                                        \n",
       "14171   0        0        0        0        0  \n",
       "\n",
       "[1 rows x 53 columns]"
      ]
     },
     "execution_count": 39,
     "metadata": {},
     "output_type": "execute_result"
    }
   ],
   "source": [
    "test_build = pd.read_csv('data/smart-devops-test.csv', delimiter=';')\n",
    "print('Number of changeset records: ', len(test_build))\n",
    "test_build.head(3)\n",
    "input_vals = prepare_data(test_build)\n",
    "input_vals.head()\n",
    "#print('Number of test inputs', len(input_vals))"
   ]
  },
  {
   "cell_type": "code",
   "execution_count": 40,
   "metadata": {
    "ExecuteTime": {
     "end_time": "2020-04-28T07:52:23.840735Z",
     "start_time": "2020-04-28T07:52:23.837612Z"
    }
   },
   "outputs": [],
   "source": [
    "input_pred = best_model.predict(input_vals)"
   ]
  },
  {
   "cell_type": "code",
   "execution_count": 43,
   "metadata": {
    "ExecuteTime": {
     "end_time": "2020-04-28T07:52:34.518165Z",
     "start_time": "2020-04-28T07:52:34.515540Z"
    }
   },
   "outputs": [
    {
     "name": "stdout",
     "output_type": "stream",
     "text": [
      "[1]\n"
     ]
    }
   ],
   "source": [
    "print(input_pred)"
   ]
  },
  {
   "cell_type": "markdown",
   "metadata": {},
   "source": [
    "# RandomForestClassifier & Decision tree"
   ]
  },
  {
   "cell_type": "code",
   "execution_count": 66,
   "metadata": {
    "ExecuteTime": {
     "end_time": "2020-04-28T08:35:16.260495Z",
     "start_time": "2020-04-28T08:35:16.252983Z"
    }
   },
   "outputs": [],
   "source": [
    "def PickMostSignificantFeatures(full_dataset, model, feature_count, debug = False):\n",
    "    important_features = pd.DataFrame({'feature': full_dataset.columns, 'importance': model.feature_importances_}\n",
    "             ).sort_values('importance', ascending=False).head(feature_count)\n",
    "    if(debug):\n",
    "        print(feature_count, 'Most important features:', important_features)\n",
    "    return important_features\n",
    "\n",
    "def ValidateBinaryClassifier(fitted_model, X_test, y_test, show_roc:bool=True):\n",
    "    y_pred = fitted_model.predict(X_test)\n",
    "    print(classification_report(y_test,y_pred))\n",
    "    print(confusion_matrix(y_test,y_pred))\n",
    "    print(f'Accuracy: {\"{:.4%}\".format(accuracy_score(y_test,y_pred))}')\n",
    "    fpr, tpr, threshold = roc_curve(y_test, y_pred)\n",
    "    roc_auc = auc(fpr, tpr)\n",
    "    print(f'ROC: Area under the curve: {\"{:.4%}\".format(roc_auc)}')\n",
    "    if show_roc:\n",
    "        # Plot ROC curve\n",
    "        import matplotlib.pyplot as plt\n",
    "        plt.title('ROC')\n",
    "        plt.plot(fpr, tpr, 'b', label = 'AUC = %0.2f' % roc_auc)\n",
    "        plt.legend(loc = 'lower right')\n",
    "        plt.plot([0, 1], [0, 1],'r--')\n",
    "        plt.xlim([0, 1])\n",
    "        plt.ylim([0, 1])\n",
    "        plt.ylabel('True Positive Rate')\n",
    "        plt.xlabel('False Positive Rate')\n",
    "        plt.show()"
   ]
  },
  {
   "cell_type": "code",
   "execution_count": 47,
   "metadata": {
    "ExecuteTime": {
     "end_time": "2020-04-28T08:17:57.100355Z",
     "start_time": "2020-04-28T08:17:12.356301Z"
    }
   },
   "outputs": [
    {
     "name": "stderr",
     "output_type": "stream",
     "text": [
      "/usr/local/lib/python3.7/site-packages/sklearn/model_selection/_search.py:281: UserWarning: The total space of parameters 9 is smaller than n_iter=10. Running 9 iterations. For exhaustive searches, use GridSearchCV.\n",
      "  % (grid_size, self.n_iter, grid_size), UserWarning)\n",
      "[Parallel(n_jobs=1)]: Using backend SequentialBackend with 1 concurrent workers.\n"
     ]
    },
    {
     "name": "stdout",
     "output_type": "stream",
     "text": [
      "Fitting 10 folds for each of 9 candidates, totalling 90 fits\n"
     ]
    },
    {
     "name": "stderr",
     "output_type": "stream",
     "text": [
      "[Parallel(n_jobs=1)]: Done  90 out of  90 | elapsed:   43.2s finished\n"
     ]
    },
    {
     "name": "stdout",
     "output_type": "stream",
     "text": [
      "Best hyper parameters found: {'n_estimators': 1000, 'max_depth': 12}\n",
      "Best accuracy: 0.9350082966596925\n"
     ]
    }
   ],
   "source": [
    "hyper_parameters = {\n",
    "    'n_estimators': [10, 100, 1000],\n",
    "    'max_depth': [4, 10, 12]\n",
    "}\n",
    "\n",
    "model = RandomForestClassifier()\n",
    "\n",
    "cv_searcher = RandomizedSearchCV(model, hyper_parameters)\n",
    "cv_searcher.scoring = 'accuracy' #f1 score could be used too\n",
    "cv_searcher.cv = 10 # k-fold \n",
    "cv_searcher.verbose = 1\n",
    "\n",
    "selected_model = cv_searcher.fit(X_train, y_train)\n",
    "best_accuracy = selected_model.best_score_ \n",
    "best_parameters = selected_model.best_params_ \n",
    "print('Best hyper parameters found:', best_parameters)\n",
    "print('Best accuracy:', best_accuracy)\n",
    "\n",
    "#model_fit = TuneParameters(model, hyper_parameters,\n",
    "#                           PickMostSignificantFeatures(pd.DataFrame(X_train, columns=X.columns), rft_model_fit.best_estimator_, 5), y_train, 4)"
   ]
  },
  {
   "cell_type": "code",
   "execution_count": 54,
   "metadata": {
    "ExecuteTime": {
     "end_time": "2020-04-28T08:24:56.934292Z",
     "start_time": "2020-04-28T08:24:56.764415Z"
    }
   },
   "outputs": [
    {
     "name": "stdout",
     "output_type": "stream",
     "text": [
      "                 feature  importance\n",
      "9         build_duration    0.302363\n",
      "11           hour_of_day    0.109062\n",
      "2         files_involved    0.067158\n",
      "0        changeset_count    0.063415\n",
      "38               user_26    0.059868\n",
      "40               user_28    0.044527\n",
      "1   involved_users_count    0.030011\n",
      "10           day_of_week    0.027369\n",
      "26               user_14    0.022664\n",
      "45               user_33    0.021329\n"
     ]
    }
   ],
   "source": [
    "important_features = PickMostSignificantFeatures(X, selected_model.best_estimator_, 10, False)\n",
    "print(important_features)"
   ]
  },
  {
   "cell_type": "code",
   "execution_count": 70,
   "metadata": {
    "ExecuteTime": {
     "end_time": "2020-04-28T08:36:23.779318Z",
     "start_time": "2020-04-28T08:36:23.455969Z"
    }
   },
   "outputs": [
    {
     "name": "stdout",
     "output_type": "stream",
     "text": [
      "              precision    recall  f1-score   support\n",
      "\n",
      "           0       0.93      0.50      0.65       107\n",
      "           1       0.93      0.99      0.96       713\n",
      "\n",
      "    accuracy                           0.93       820\n",
      "   macro avg       0.93      0.75      0.81       820\n",
      "weighted avg       0.93      0.93      0.92       820\n",
      "\n",
      "[[ 54  53]\n",
      " [  4 709]]\n",
      "Accuracy: 93.0488%\n",
      "ROC: Area under the curve: 74.9531%\n"
     ]
    },
    {
     "data": {
      "image/png": "[encoded data removed]",
      "text/plain": [
       "<Figure size 720x432 with 1 Axes>"
      ]
     },
     "metadata": {
      "needs_background": "light"
     },
     "output_type": "display_data"
    }
   ],
   "source": [
    "ValidateBinaryClassifier(selected_model.best_estimator_, X_test, y_test)"
   ]
  }
 ],
 "metadata": {
  "kernelspec": {
   "display_name": "Python 3",
   "language": "python",
   "name": "python3"
  },
  "language_info": {
   "codemirror_mode": {
    "name": "ipython",
    "version": 3
   },
   "file_extension": ".py",
   "mimetype": "text/x-python",
   "name": "python",
   "nbconvert_exporter": "python",
   "pygments_lexer": "ipython3",
   "version": "3.7.5"
  },
  "toc": {
   "base_numbering": 1,
   "nav_menu": {},
   "number_sections": true,
   "sideBar": true,
   "skip_h1_title": false,
   "title_cell": "Table of Contents",
   "title_sidebar": "Contents",
   "toc_cell": false,
   "toc_position": {
    "height": "calc(100% - 180px)",
    "left": "10px",
    "top": "150px",
    "width": "216px"
   },
   "toc_section_display": true,
   "toc_window_display": true
  }
 },
 "nbformat": 4,
 "nbformat_minor": 2
}
